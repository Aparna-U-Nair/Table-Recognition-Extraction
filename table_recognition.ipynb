{
 "cells": [
  {
   "cell_type": "code",
   "execution_count": 1,
   "metadata": {},
   "outputs": [],
   "source": [
    "import cv2\n",
    "import csv\n",
    "import numpy as np\n",
    "import pandas as pd\n",
    "import matplotlib.pyplot as plt\n",
    "import pytesseract\n",
    "from PIL import Image\n",
    "from IPython.core.interactiveshell import InteractiveShell  \n",
    "InteractiveShell.ast_node_interactivity = \"all\"\n",
    "\n",
    "pytesseract.pytesseract.tesseract_cmd=\"C:/Program Files/Tesseract-OCR/tesseract.exe\""
   ]
  },
  {
   "cell_type": "code",
   "execution_count": 2,
   "metadata": {},
   "outputs": [
    {
     "data": {
      "application/javascript": [
       "\n",
       "        if (window._pyforest_update_imports_cell) { window._pyforest_update_imports_cell('import os'); }\n",
       "    "
      ],
      "text/plain": [
       "<IPython.core.display.Javascript object>"
      ]
     },
     "metadata": {},
     "output_type": "display_data"
    },
    {
     "data": {
      "text/plain": [
       "(452, 1207)"
      ]
     },
     "execution_count": 2,
     "metadata": {},
     "output_type": "execute_result"
    },
    {
     "data": {
      "text/plain": [
       "(452, 1207)"
      ]
     },
     "execution_count": 2,
     "metadata": {},
     "output_type": "execute_result"
    }
   ],
   "source": [
    "img_path = \"F:/Envirya_Project/Images/Capture.png\"\n",
    "file_name = os.path.splitext(img_path)[0]\n",
    "file_name = file_name.split(\"/\")[-1]\n",
    "\n",
    "img = cv2.imread(img_path,0) #Grayscale Image\n",
    "img = cv2.GaussianBlur(img, (3,3), 0)\n",
    "thresh, img_bin = cv2.threshold(img,128,255,cv2.THRESH_BINARY |cv2.THRESH_OTSU)\n",
    "#Inversion of image\n",
    "img_bin = 255-img_bin\n",
    "# cv2.imwrite(\"trial_thresh.png\",img_bin)\n",
    "# cv2.imshow(\"Gray\",img_bin)\n",
    "# cv2.waitKey()\n",
    "# cv2.destroyAllWindows()\n",
    "\n",
    "np.array(img).shape\n",
    "img.shape #height,width\n",
    "\n",
    "#start the kernel part\n",
    "length = img.shape[1]//100 #width\n",
    "kernel_ver = cv2.getStructuringElement(cv2.MORPH_RECT,(1,length)) \n",
    "kernel_hor = cv2.getStructuringElement(cv2.MORPH_RECT,(length,1))\n",
    "kernel = cv2.getStructuringElement(cv2.MORPH_RECT,(2,2))"
   ]
  },
  {
   "cell_type": "code",
   "execution_count": 3,
   "metadata": {},
   "outputs": [],
   "source": [
    "#Detection of vertical lines\n",
    "img_ver = cv2.erode(img_bin,kernel_ver,iterations=3)\n",
    "lines_ver = cv2.dilate(img_ver,kernel_ver,iterations=3)\n",
    "# cv2.imshow(\"Vertical\",lines_ver)\n",
    "\n",
    "#Detection of horizontal lines\n",
    "img_hor = cv2.erode(img_bin,kernel_hor,iterations=3)\n",
    "lines_hor = cv2.dilate(img_hor,kernel_hor,iterations=3)\n",
    "# cv2.imshow(\"Horizontal\",lines_hor)\n",
    "\n",
    "#Combining both the lines to a new image.\n",
    "comb_img = cv2.addWeighted(lines_ver,0.5,lines_hor,0.5,0.0)\n",
    "comb_img = cv2.erode(~comb_img, kernel, iterations=2)\n",
    "thresh, comb_img = cv2.threshold(comb_img, 128,255, cv2.THRESH_BINARY | cv2.THRESH_OTSU)\n",
    "# cv2.imshow(\"Combined\",comb_img)\n",
    "\n",
    "bitxor = cv2.bitwise_xor(img,comb_img)\n",
    "bitnot = cv2.bitwise_not(bitxor)\n",
    "# cv2.imshow(\"BIT Operated\",bitnot)\n",
    "\n",
    "contours, hierarchy = cv2.findContours(comb_img, cv2.RETR_TREE, cv2.CHAIN_APPROX_SIMPLE)\n",
    "\n",
    "#Sorting the Contours\n",
    "def sort_contour(conts, method):\n",
    "    i = 0\n",
    "    rev_order = False\n",
    "    if method == \"right-to-left\" or method == \"bottom-to-top\":\n",
    "        rev_order = True\n",
    "    if method == \"top-to-bottom\" or method == \"left-to-right\":\n",
    "        i = 1\n",
    "    bounding_boxes = [cv2.boundingRect(contr) for contr in conts]\n",
    "    (conts,bounding_boxes) = zip(*sorted(zip(conts,bounding_boxes),key=lambda x:x[1][i], reverse=rev_order))\n",
    "    return (conts, bounding_boxes)\n",
    "\n",
    "contours, bounding_boxes = sort_contour(contours, method=\"top-to-bottom\")\n",
    "# print(bounding_boxes)\n",
    "# print(bounding_boxes[1][3])\n",
    "\n",
    "#saving the heights of all detected boxes\n",
    "heights = [bounding_boxes[i][3] for i in range(len(bounding_boxes))]\n",
    "mean_height = np.mean(heights)\n",
    "\n",
    "cells=[]\n",
    "#get the width,height of each cell, and display the contour\n",
    "for cntr in contours:\n",
    "    x, y, w, h = cv2.boundingRect(cntr)\n",
    "    if (w<1000 and h<500):\n",
    "        image= cv2.rectangle(img, (x,y), (x+w, y+h),(0,255,0),2)\n",
    "        cells.append([x, y, w, h])\n",
    "    \n",
    "# cv2.imshow(\"Highlighted\",image)\n",
    "# print(f\"Cells {cells}\")\n",
    "\n",
    "# cv2.waitKey()\n",
    "# cv2.destroyAllWindows()"
   ]
  },
  {
   "cell_type": "code",
   "execution_count": 4,
   "metadata": {},
   "outputs": [
    {
     "name": "stdout",
     "output_type": "stream",
     "text": [
      "Rows\n",
      "[[[981, 100, 155, 22], [820, 100, 156, 22], [661, 100, 155, 22], [501, 100, 156, 22], [341, 100, 156, 22], [181, 100, 155, 22], [21, 100, 156, 22], [829, 106, 78, 10], [349, 106, 58, 6]], [[981, 126, 155, 21], [820, 126, 156, 21], [661, 126, 155, 21], [501, 126, 156, 21], [341, 126, 156, 21], [181, 126, 155, 21], [21, 126, 156, 21], [829, 132, 78, 10]], [[981, 157, 155, 23], [820, 157, 156, 23], [661, 157, 155, 23], [501, 157, 156, 23], [181, 157, 316, 23], [21, 157, 156, 23], [724, 163, 44, 5], [70, 163, 45, 5], [870, 164, 43, 5], [314, 164, 58, 5], [79, 168, 51, 5]], [[981, 184, 155, 22], [820, 184, 156, 22], [661, 184, 155, 22], [501, 184, 156, 22], [181, 184, 316, 22], [21, 184, 156, 22]], [[981, 210, 155, 22], [820, 210, 156, 22], [661, 210, 155, 22], [501, 210, 156, 22], [181, 210, 316, 22], [21, 210, 156, 22]], [[981, 237, 155, 20], [820, 237, 156, 20], [661, 237, 155, 20], [501, 237, 156, 20], [181, 237, 316, 20], [21, 237, 156, 20]], [[981, 262, 155, 22], [820, 262, 156, 22], [661, 262, 155, 22], [501, 262, 156, 22], [181, 262, 316, 22], [21, 262, 156, 22]], [[981, 288, 155, 23], [820, 288, 156, 23], [661, 288, 155, 23], [501, 288, 156, 23], [181, 288, 316, 23], [21, 288, 156, 23]], [[981, 315, 155, 22], [820, 315, 156, 22], [661, 315, 155, 22], [501, 315, 156, 22], [181, 315, 316, 22], [21, 315, 156, 22]], [[981, 341, 155, 22], [820, 341, 156, 22], [661, 341, 155, 22], [501, 341, 156, 22], [181, 341, 316, 22], [21, 341, 156, 22]], [[981, 367, 155, 22], [820, 367, 156, 22], [661, 367, 155, 22], [501, 367, 156, 22], [181, 367, 316, 22], [21, 367, 156, 22]]]\n",
      "Max Cols: 11\n"
     ]
    },
    {
     "data": {
      "text/plain": [
       "-1"
      ]
     },
     "execution_count": 4,
     "metadata": {},
     "output_type": "execute_result"
    }
   ],
   "source": [
    "#Differentiating rows and columns\n",
    "row = []\n",
    "col = []\n",
    "j = 0\n",
    "\n",
    "for idx in range(len(cells)):\n",
    "    if idx == 0:\n",
    "        col.append(cells[idx])\n",
    "        temp = cells[idx]\n",
    "    else:\n",
    "        if(cells[idx][1] <= temp[1]+mean_height/2):\n",
    "            col.append(cells[idx])\n",
    "            temp = cells[idx]\n",
    "            \n",
    "            if(idx==len(cells)-1):\n",
    "                row.append(col)\n",
    "        else:\n",
    "            row.append(col)\n",
    "            col = []\n",
    "            temp = cells[idx]\n",
    "            col.append(cells[idx])\n",
    "            \n",
    "# Understand the the columns required in final dataframe\n",
    "max_col = 0\n",
    "count = 0\n",
    "for i in range(len(row)):\n",
    "    count = len(row[i])\n",
    "    if count > max_col:\n",
    "        max_col = count\n",
    "        \n",
    "# print(row)\n",
    "# print(f\"Max Cols: {max_col}\")\n",
    "#get the column centers to align properly\n",
    "center = [int(row[i][j][0]+row[i][j][2]/2) for j in range(len(row[i])) if row[0]]\n",
    "center=np.array(center)\n",
    "center.sort()\n",
    "    \n",
    "final_cells = []\n",
    "for i in range(len(row)):\n",
    "    temp_cell = []\n",
    "    for j in range(max_col):\n",
    "        temp_cell.append([])\n",
    "    for k in range(len(row[i])):\n",
    "        diff = abs(center-(row[i][k][0]+row[i][k][2]/4))\n",
    "        minimum = min(diff)\n",
    "        indexing = list(diff).index(minimum)\n",
    "        temp_cell[indexing].append(row[i][k])\n",
    "    final_cells.append(temp_cell)\n",
    "    \n",
    "cv2.waitKey(0)\n",
    "cv2.destroyAllWindows()"
   ]
  },
  {
   "cell_type": "code",
   "execution_count": 5,
   "metadata": {},
   "outputs": [],
   "source": [
    "#extraction of data from each cell using pytesseract\n",
    "data = []\n",
    "for i in range(len(final_cells)):\n",
    "    for j in range(len(final_cells[i])):\n",
    "        temp_data = \"\"\n",
    "        if len(final_cells[i][j])==0:\n",
    "            data.append(\" \")\n",
    "        else:\n",
    "            for k in range(len(final_cells[i][j])):\n",
    "                y,x,w,h = final_cells[i][j][k][0], final_cells[i][j][k][1], final_cells[i][j][k][2], final_cells[i][j][k][3]\n",
    "                final_img = bitnot[x:x+h, y:y+w]\n",
    "                kernel = cv2.getStructuringElement(cv2.MORPH_RECT, (2, 1))\n",
    "                border = cv2.copyMakeBorder(final_img,2,2,2,2,   cv2.BORDER_CONSTANT,value=[255,255])\n",
    "                resizing = cv2.resize(border, None, fx=2, fy=2, interpolation=cv2.INTER_CUBIC)\n",
    "                dilation = cv2.dilate(resizing, kernel,iterations=1)\n",
    "                erosion = cv2.erode(dilation, kernel,iterations=1)\n",
    "                text = pytesseract.image_to_string(erosion)\n",
    "                if len(text) == 0:\n",
    "                    text = pytesseract.image_to_string(erosion, config='--psm 3')\n",
    "                temp_data += \" \"+text\n",
    "            data.append(temp_data)\n",
    "            \n",
    "#creating a dataframe from the list and then saving as csv file\n",
    "data_arr = np.array(data)\n",
    "df = pd.DataFrame(data_arr.reshape(len(row),max_col))\n",
    "df.to_csv(\"F:/Envirya_Project/csv_files/\" + file_name + \".csv\")\n",
    "final = df.style.set_properties(align=\"left\")\n",
    "# print(type(final))\n",
    "final.to_excel(\"F:/Envirya_Project/csv_files/\" + file_name + \".xlsx\")"
   ]
  },
  {
   "cell_type": "code",
   "execution_count": null,
   "metadata": {},
   "outputs": [],
   "source": []
  }
 ],
 "metadata": {
  "kernelspec": {
   "display_name": "Python 3",
   "language": "python",
   "name": "python3"
  },
  "language_info": {
   "codemirror_mode": {
    "name": "ipython",
    "version": 3
   },
   "file_extension": ".py",
   "mimetype": "text/x-python",
   "name": "python",
   "nbconvert_exporter": "python",
   "pygments_lexer": "ipython3",
   "version": "3.7.4"
  }
 },
 "nbformat": 4,
 "nbformat_minor": 2
}
